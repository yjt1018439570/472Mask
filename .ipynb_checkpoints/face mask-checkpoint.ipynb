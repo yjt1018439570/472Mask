{
 "cells": [
  {
   "cell_type": "code",
   "execution_count": 619,
   "id": "c5024b36",
   "metadata": {},
   "outputs": [],
   "source": [
    "import numpy as np\n",
    "import pandas as pd\n",
    "import matplotlib.pyplot as plt\n",
    "\n",
    "import torch\n",
    "import torch.nn as nn\n",
    "import torch.nn.functional as F\n",
    "import torch.optim as optim\n",
    "from torch.utils.data import DataLoader, random_split, SubsetRandomSampler, Subset, WeightedRandomSampler\n",
    "import torchvision\n",
    "from torch.autograd import Variable\n",
    "from torchvision.datasets import ImageFolder, DatasetFolder\n",
    "import torchvision.transforms as transforms\n",
    "\n",
    "\n",
    "import sklearn\n",
    "from sklearn.metrics import confusion_matrix, classification_report\n",
    "from sklearn.metrics import confusion_matrix\n",
    "from sklearn.metrics import f1_score\n",
    "from sklearn.metrics import recall_score\n",
    "from sklearn.metrics import precision_score\n",
    "from sklearn.metrics import accuracy_score\n",
    "\n",
    "import os\n",
    "import seaborn as sns\n",
    "import itertools\n",
    "import PIL\n",
    "from PIL import Image\n",
    "import warnings\n",
    "\n",
    "device = torch.device('cuda' if torch.cuda.is_available() else 'cpu')"
   ]
  },
  {
   "cell_type": "markdown",
   "id": "598a7cd0",
   "metadata": {},
   "source": [
    "#### Preprocessing data"
   ]
  },
  {
   "cell_type": "code",
   "execution_count": 620,
   "id": "bb6732a0",
   "metadata": {},
   "outputs": [],
   "source": [
    "#resize the image into 32*32 pixels\n",
    "train_transform = torchvision.transforms.Compose([transforms.ToTensor(),\n",
    "                                                  transforms.Resize((32,32)),\n",
    "                                                  transforms.RandomCrop(32),\n",
    "                                                 ])\n"
   ]
  },
  {
   "cell_type": "code",
   "execution_count": 633,
   "id": "51d12219",
   "metadata": {},
   "outputs": [],
   "source": [
    "#train data\n",
    "data_dir = \"../Comp_472 Group Project/dataset/train\"\n",
    "train_dataset = torchvision.datasets.ImageFolder(data_dir, transform = train_transform)\n",
    "\n",
    "trainloader = torch.utils.data.DataLoader(\n",
    "    train_dataset, batch_size=300, shuffle = True\n",
    ")\n"
   ]
  },
  {
   "cell_type": "code",
   "execution_count": 634,
   "id": "b36f0c58",
   "metadata": {},
   "outputs": [],
   "source": [
    "#test data\n",
    "test_dir = \"../Comp_472 Group Project/dataset/test\"\n",
    "test_dataset = torchvision.datasets.ImageFolder(test_dir, transform = train_transform)\n",
    "\n",
    "testloader = torch.utils.data.DataLoader(\n",
    "    test_dataset, batch_size=100, shuffle = True\n",
    ")"
   ]
  },
  {
   "cell_type": "markdown",
   "id": "0a7ef55c",
   "metadata": {},
   "source": [
    "#### Modeling"
   ]
  },
  {
   "cell_type": "code",
   "execution_count": 635,
   "id": "15928ed9",
   "metadata": {},
   "outputs": [],
   "source": [
    "#Model refence from Internet with modification of numbers\n",
    "class CNN(nn.Module):\n",
    "    def __init__(self, K):\n",
    "        super(CNN, self).__init__()\n",
    "        \n",
    "        self.conv1 = nn.Sequential(\n",
    "            nn.Conv2d(3, 32, kernel_size = 3, padding = 1),\n",
    "            nn.ReLU(),\n",
    "            nn.BatchNorm2d(32),\n",
    "            nn.MaxPool2d(2),\n",
    "        )\n",
    "        \n",
    "        self.conv2 = nn.Sequential(\n",
    "            nn.Conv2d(32, 64, kernel_size = 3, padding = 1),\n",
    "            nn.ReLU(),\n",
    "            nn.BatchNorm2d(64),\n",
    "            nn.MaxPool2d(2),\n",
    "        )\n",
    "        \n",
    "        self.conv3 = nn.Sequential(\n",
    "            nn.Conv2d(64, 128, kernel_size = 3, padding = 1),\n",
    "            nn.ReLU(),\n",
    "            nn.BatchNorm2d(128),\n",
    "            nn.MaxPool2d(2),\n",
    "        )\n",
    "        \n",
    "        self.fc1 = nn.Linear(128 * 4 * 4, 1024)\n",
    "        self.fc2 = nn.Linear(1024, 512)\n",
    "        self.fc3 = nn.Linear(512, K)\n",
    "        \n",
    "    def forward(self, x):\n",
    "        x = self.conv1(x)\n",
    "        x = self.conv2(x)\n",
    "        x = self.conv3(x)\n",
    "        x = x.view(x.size(0), -1)\n",
    "        x = F.dropout(x, p=0.12)\n",
    "        x = F.relu(self.fc1(x))\n",
    "        x = F.dropout(x, p=0.8)\n",
    "        x = F.relu(self.fc2(x))\n",
    "        x = F.dropout(x, p=0.6)\n",
    "        x = self.fc3(x)\n",
    "        return x"
   ]
  },
  {
   "cell_type": "code",
   "execution_count": 636,
   "id": "da191254",
   "metadata": {},
   "outputs": [
    {
     "data": {
      "text/plain": [
       "CNN(\n",
       "  (conv1): Sequential(\n",
       "    (0): Conv2d(3, 32, kernel_size=(3, 3), stride=(1, 1), padding=(1, 1))\n",
       "    (1): ReLU()\n",
       "    (2): BatchNorm2d(32, eps=1e-05, momentum=0.1, affine=True, track_running_stats=True)\n",
       "    (3): MaxPool2d(kernel_size=2, stride=2, padding=0, dilation=1, ceil_mode=False)\n",
       "  )\n",
       "  (conv2): Sequential(\n",
       "    (0): Conv2d(32, 64, kernel_size=(3, 3), stride=(1, 1), padding=(1, 1))\n",
       "    (1): ReLU()\n",
       "    (2): BatchNorm2d(64, eps=1e-05, momentum=0.1, affine=True, track_running_stats=True)\n",
       "    (3): MaxPool2d(kernel_size=2, stride=2, padding=0, dilation=1, ceil_mode=False)\n",
       "  )\n",
       "  (conv3): Sequential(\n",
       "    (0): Conv2d(64, 128, kernel_size=(3, 3), stride=(1, 1), padding=(1, 1))\n",
       "    (1): ReLU()\n",
       "    (2): BatchNorm2d(128, eps=1e-05, momentum=0.1, affine=True, track_running_stats=True)\n",
       "    (3): MaxPool2d(kernel_size=2, stride=2, padding=0, dilation=1, ceil_mode=False)\n",
       "  )\n",
       "  (fc1): Linear(in_features=2048, out_features=1024, bias=True)\n",
       "  (fc2): Linear(in_features=1024, out_features=512, bias=True)\n",
       "  (fc3): Linear(in_features=512, out_features=4, bias=True)\n",
       ")"
      ]
     },
     "execution_count": 636,
     "metadata": {},
     "output_type": "execute_result"
    }
   ],
   "source": [
    "n = len(set(train_dataset.targets))\n",
    "model = CNN(n)\n",
    "model.to(device)"
   ]
  },
  {
   "cell_type": "code",
   "execution_count": 637,
   "id": "7794a3ee",
   "metadata": {},
   "outputs": [],
   "source": [
    "criterion = nn.CrossEntropyLoss()\n",
    "optimizer = torch.optim.Adam(model.parameters())"
   ]
  },
  {
   "cell_type": "markdown",
   "id": "4daee4fb",
   "metadata": {},
   "source": [
    "#### Training"
   ]
  },
  {
   "cell_type": "code",
   "execution_count": 638,
   "id": "d305956f",
   "metadata": {},
   "outputs": [],
   "source": [
    "#modify from https://www.programcreek.com/python/?CodeExample=train+epoch\n",
    "def train(model, criterion, optimizer, trainloader, epochs):\n",
    "  train_losses = np.zeros(epochs)\n",
    "\n",
    "  for i in range(epochs):\n",
    "    train_loss = []\n",
    "    for inputs, targets in trainloader:\n",
    "      inputs, targets = inputs.to(device), targets.to(device)\n",
    "      optimizer.zero_grad()\n",
    "\n",
    "      outputs = model(inputs)\n",
    "      loss = criterion(outputs, targets)\n",
    "\n",
    "      loss.backward()\n",
    "      optimizer.step()\n",
    "\n",
    "      train_loss.append(loss.item())\n",
    "    train_loss = np.mean(train_loss)\n",
    "    train_losses[i] = train_loss\n",
    "    \n",
    "    print(f'Epoch:{i+1}/{epochs}, Train Loss: {train_loss:.4f}')\n",
    "    \n",
    "  return train_losses"
   ]
  },
  {
   "cell_type": "code",
   "execution_count": 639,
   "id": "d13097cc",
   "metadata": {},
   "outputs": [
    {
     "name": "stdout",
     "output_type": "stream",
     "text": [
      "Epoch:1/10, Train Loss: 1.2737\n",
      "Epoch:2/10, Train Loss: 1.0559\n",
      "Epoch:3/10, Train Loss: 0.7505\n",
      "Epoch:4/10, Train Loss: 0.6590\n",
      "Epoch:5/10, Train Loss: 0.6984\n",
      "Epoch:6/10, Train Loss: 0.5222\n",
      "Epoch:7/10, Train Loss: 0.4531\n",
      "Epoch:8/10, Train Loss: 0.4786\n",
      "Epoch:9/10, Train Loss: 0.4422\n",
      "Epoch:10/10, Train Loss: 0.3421\n"
     ]
    }
   ],
   "source": [
    "#training takes about 1 minute for 10 epochs\n",
    "train_losses = train(model, criterion, optimizer, trainloader, epochs=10)"
   ]
  },
  {
   "cell_type": "code",
   "execution_count": 640,
   "id": "2a86bd06",
   "metadata": {},
   "outputs": [],
   "source": [
    "PATH = \"MyModel.pt\""
   ]
  },
  {
   "cell_type": "code",
   "execution_count": 641,
   "id": "d8f80155",
   "metadata": {},
   "outputs": [],
   "source": [
    "# save model\n",
    "torch.save(model, PATH)"
   ]
  },
  {
   "cell_type": "code",
   "execution_count": 642,
   "id": "35e7a356",
   "metadata": {},
   "outputs": [
    {
     "data": {
      "text/plain": [
       "CNN(\n",
       "  (conv1): Sequential(\n",
       "    (0): Conv2d(3, 32, kernel_size=(3, 3), stride=(1, 1), padding=(1, 1))\n",
       "    (1): ReLU()\n",
       "    (2): BatchNorm2d(32, eps=1e-05, momentum=0.1, affine=True, track_running_stats=True)\n",
       "    (3): MaxPool2d(kernel_size=2, stride=2, padding=0, dilation=1, ceil_mode=False)\n",
       "  )\n",
       "  (conv2): Sequential(\n",
       "    (0): Conv2d(32, 64, kernel_size=(3, 3), stride=(1, 1), padding=(1, 1))\n",
       "    (1): ReLU()\n",
       "    (2): BatchNorm2d(64, eps=1e-05, momentum=0.1, affine=True, track_running_stats=True)\n",
       "    (3): MaxPool2d(kernel_size=2, stride=2, padding=0, dilation=1, ceil_mode=False)\n",
       "  )\n",
       "  (conv3): Sequential(\n",
       "    (0): Conv2d(64, 128, kernel_size=(3, 3), stride=(1, 1), padding=(1, 1))\n",
       "    (1): ReLU()\n",
       "    (2): BatchNorm2d(128, eps=1e-05, momentum=0.1, affine=True, track_running_stats=True)\n",
       "    (3): MaxPool2d(kernel_size=2, stride=2, padding=0, dilation=1, ceil_mode=False)\n",
       "  )\n",
       "  (fc1): Linear(in_features=2048, out_features=1024, bias=True)\n",
       "  (fc2): Linear(in_features=1024, out_features=512, bias=True)\n",
       "  (fc3): Linear(in_features=512, out_features=4, bias=True)\n",
       ")"
      ]
     },
     "execution_count": 642,
     "metadata": {},
     "output_type": "execute_result"
    }
   ],
   "source": [
    "# load model\n",
    "model = torch.load(PATH)\n",
    "model.eval()"
   ]
  },
  {
   "cell_type": "code",
   "execution_count": 643,
   "id": "5b6b7c54",
   "metadata": {},
   "outputs": [
    {
     "data": {
      "image/png": "[encoded data removed]",
      "text/plain": [
       "<Figure size 432x288 with 1 Axes>"
      ]
     },
     "metadata": {
      "needs_background": "light"
     },
     "output_type": "display_data"
    }
   ],
   "source": [
    "plt.plot(train_losses, label = \"Train Loss\")\n",
    "plt.legend()\n",
    "plt.show()"
   ]
  },
  {
   "cell_type": "markdown",
   "id": "30a0bb0c",
   "metadata": {},
   "source": [
    "#### Evaluation"
   ]
  },
  {
   "cell_type": "code",
   "execution_count": 644,
   "id": "aeec992b",
   "metadata": {},
   "outputs": [],
   "source": [
    "model.eval()\n",
    "\n",
    "y_true = []\n",
    "y_pred = []\n",
    "\n",
    "with torch.no_grad():\n",
    "    correct = 0\n",
    "    total = 0\n",
    "    for images, labels in testloader:\n",
    "        outputs = model(images)\n",
    "        _, predicted = torch.max(outputs.data, 1)\n",
    "        \n",
    "        for l,p in zip(labels.numpy(), predicted.numpy()):\n",
    "            y_true.append(targets[l])\n",
    "            y_pred.append(targets[p])"
   ]
  },
  {
   "cell_type": "code",
   "execution_count": 645,
   "id": "a7ec12ab",
   "metadata": {},
   "outputs": [
    {
     "name": "stdout",
     "output_type": "stream",
     "text": [
      "Accuracy:  0.610\n",
      "Precision:  0.641\n",
      "Recall:  0.610\n",
      "F1-measure:  0.591\n"
     ]
    }
   ],
   "source": [
    "#Use method from sklearn\n",
    "#Question: why the accuracy thing keeps changing every time I run it\n",
    "accuracy = accuracy_score(y_true, y_pred)\n",
    "precision = precision_score(y_true, y_pred, average=\"weighted\")\n",
    "recall = recall_score(y_true, y_pred, average=\"weighted\")\n",
    "f1 = f1_score(y_true, y_pred, average=\"weighted\")\n",
    "\n",
    "\n",
    "print(f\"Accuracy: {accuracy: .3f}\")\n",
    "print(f\"Precision: {precision: .3f}\")\n",
    "print(f\"Recall: {recall: .3f}\")\n",
    "print(f\"F1-measure: {f1: .3f}\")"
   ]
  },
  {
   "cell_type": "code",
   "execution_count": 646,
   "id": "440b5b83",
   "metadata": {},
   "outputs": [],
   "source": [
    "#Method found on https://scikit-learn.org/0.18/auto_examples/model_selection/plot_confusion_matrix.html\n",
    "def plot_confusion_matrix(cm, classes, normalize=False,title='Confusion matrix', cmap=plt.cm.Blues):\n",
    "    \"\"\"\n",
    "    This function prints and plots the confusion matrix.\n",
    "    Normalization can be applied by setting `normalize=True`.\n",
    "    \"\"\"\n",
    "    plt.figure(figsize=(5,5))\n",
    "    plt.imshow(cm, interpolation='nearest', cmap=cmap)\n",
    "    plt.title(title)\n",
    "    plt.colorbar()\n",
    "    tick_marks = np.arange(len(classes))\n",
    "    plt.xticks(tick_marks, classes, rotation=45)\n",
    "    plt.yticks(tick_marks, classes)\n",
    "\n",
    "    if normalize:\n",
    "        cm = cm.astype('float') / cm.sum(axis=1)[:, np.newaxis]\n",
    "#        print(\"Normalized confusion matrix\")\n",
    "#    else:\n",
    "#        print('Confusion matrix, without normalization')\n",
    "\n",
    "    print(cm)\n",
    "\n",
    "    thresh = cm.max() / 2.\n",
    "    for i, j in itertools.product(range(cm.shape[0]), range(cm.shape[1])):\n",
    "        plt.text(j, i, cm[i, j],\n",
    "                 horizontalalignment=\"center\",\n",
    "                 color=\"white\" if cm[i, j] > thresh else \"black\")\n",
    "\n",
    "    plt.tight_layout()\n",
    "    plt.ylabel('True label')\n",
    "    plt.xlabel('Predicted label')"
   ]
  },
  {
   "cell_type": "code",
   "execution_count": 647,
   "id": "3edaa4be",
   "metadata": {},
   "outputs": [],
   "source": [
    "confusion_matrix(y_true=y_true, y_pred=y_pred)\n",
    "cm_plot_labels = targets\n",
    "cm = confusion_matrix(y_true=y_true, y_pred=y_pred, labels=cm_plot_labels)"
   ]
  },
  {
   "cell_type": "code",
   "execution_count": 648,
   "id": "9138ec59",
   "metadata": {},
   "outputs": [
    {
     "name": "stdout",
     "output_type": "stream",
     "text": [
      "[[47  4  3 46]\n",
      " [16 32 16 36]\n",
      " [16  9 71  4]\n",
      " [ 3  1  2 94]]\n"
     ]
    },
    {
     "data": {
      "image/png": "[encoded data removed]",
      "text/plain": [
       "<Figure size 360x360 with 2 Axes>"
      ]
     },
     "metadata": {
      "needs_background": "light"
     },
     "output_type": "display_data"
    }
   ],
   "source": [
    "plot_confusion_matrix(cm=cm, classes=cm_plot_labels, title=\"Confusion Matrix\", cmap=plt.cm.Blues)"
   ]
  },
  {
   "cell_type": "markdown",
   "id": "1183fb85",
   "metadata": {},
   "source": [
    "#### Visualize the result"
   ]
  },
  {
   "cell_type": "code",
   "execution_count": 649,
   "id": "aeca5d29",
   "metadata": {},
   "outputs": [],
   "source": [
    "#Method for show the image\n",
    "def imshow(image, ax=None, title=None):\n",
    "    \"\"\"Imshow for Tensor.\"\"\"\n",
    "    if ax is None:\n",
    "        fig, ax = plt.subplots()\n",
    "    image = image.numpy().transpose((1, 2, 0))\n",
    "\n",
    "    ax.imshow(image)\n",
    "    ax.spines['top'].set_visible(False)\n",
    "    ax.spines['right'].set_visible(False)\n",
    "    ax.spines['left'].set_visible(False)\n",
    "    ax.spines['bottom'].set_visible(False)\n",
    "    ax.tick_params(axis='both', length=0)\n",
    "    ax.set_xticklabels('')\n",
    "    ax.set_yticklabels('')\n",
    "\n",
    "    return ax"
   ]
  },
  {
   "cell_type": "code",
   "execution_count": 650,
   "id": "6e36053b",
   "metadata": {},
   "outputs": [],
   "source": [
    "model.to('cpu')\n",
    "model.eval()\n",
    "images, targets = next(iter(testloader))"
   ]
  },
  {
   "cell_type": "code",
   "execution_count": 651,
   "id": "ffbdf3a5",
   "metadata": {},
   "outputs": [],
   "source": [
    "with torch.no_grad():\n",
    "    output = model.forward(images)\n",
    "\n",
    "ps = F.softmax(output,dim=1)"
   ]
  },
  {
   "cell_type": "code",
   "execution_count": 659,
   "id": "f5379618",
   "metadata": {},
   "outputs": [
    {
     "data": {
      "text/plain": [
       "<AxesSubplot:>"
      ]
     },
     "execution_count": 659,
     "metadata": {},
     "output_type": "execute_result"
    },
    {
     "data": {
      "image/png": "[encoded data removed]",
      "text/plain": [
       "<Figure size 432x288 with 1 Axes>"
      ]
     },
     "metadata": {
      "needs_background": "light"
     },
     "output_type": "display_data"
    }
   ],
   "source": [
    "# This block is choosing randomly from the test set and out put the image\n",
    "#You can run this block multiple times to try different images\n",
    "\n",
    "rand_img = np.random.randint(100, size=1)[0]\n",
    "probability = ps[rand_img].data.numpy().squeeze()\n",
    "imshow(images[rand_img])"
   ]
  },
  {
   "cell_type": "code",
   "execution_count": 660,
   "id": "f35ba8d7",
   "metadata": {},
   "outputs": [
    {
     "data": {
      "image/png": "[encoded data removed]",
      "text/plain": [
       "<Figure size 432x288 with 1 Axes>"
      ]
     },
     "metadata": {
      "needs_background": "light"
     },
     "output_type": "display_data"
    }
   ],
   "source": [
    "#This block is for showing the prediction of the above image by showing the probability\n",
    "#You should run it after you choose a image from the block above \n",
    "#You should run the whole \"Visualize the result\" block if you try to run the block below and come back to this one\n",
    "\n",
    "ind = np.arange(4)\n",
    "targets = ['N95mask', 'clothmask', 'nomask', 'surgicalmask']\n",
    "width = 0.35\n",
    "locations = ind\n",
    "\n",
    "class_probability = plt.barh(ind, probability, width, alpha=1, label = 'Face Mask')\n",
    "\n",
    "plt.yticks(np.arange(4))\n",
    "plt.title('Probability')\n",
    "plt.yticks(locations,targets)\n",
    "\n",
    "#legend\n",
    "plt.legend()\n",
    "plt.ylim(top=5)\n",
    "plt.ylim(bottom=-2)\n",
    "plt.show();"
   ]
  },
  {
   "cell_type": "markdown",
   "id": "40eef6b2",
   "metadata": {},
   "source": [
    "#### User Input"
   ]
  },
  {
   "cell_type": "code",
   "execution_count": 661,
   "id": "064e6925",
   "metadata": {},
   "outputs": [
    {
     "data": {
      "text/plain": [
       "<AxesSubplot:>"
      ]
     },
     "execution_count": 661,
     "metadata": {},
     "output_type": "execute_result"
    },
    {
     "data": {
      "image/png": "[encoded data removed]",
      "text/plain": [
       "<Figure size 432x288 with 1 Axes>"
      ]
     },
     "metadata": {
      "needs_background": "light"
     },
     "output_type": "display_data"
    }
   ],
   "source": [
    "#User can input their own image by putting the image in folder \"../Comp_472 Group Project/dataset/userInput/userInput\"\n",
    "#The folder contains an example\n",
    "#REMEMBER only one image at a time can be process,for multiple images,only the first one in the folder will be considered\n",
    "\n",
    "user_dir = \"../Comp_472 Group Project/dataset/userInput\"\n",
    "user_dataset = torchvision.datasets.ImageFolder(user_dir, transform = user_transform)\n",
    "userloader = torch.utils.data.DataLoader(user_dataset, batch_size=64, shuffle = False)\n",
    "\n",
    "model.to('cpu')\n",
    "model.eval()\n",
    "images, targets = next(iter(userloader))\n",
    "\n",
    "with torch.no_grad():\n",
    "    output = model.forward(images)\n",
    "\n",
    "ps = F.softmax(output,dim=1)\n",
    "\n",
    "probability = ps[0].data.numpy().squeeze()\n",
    "imshow(images[0])"
   ]
  },
  {
   "cell_type": "code",
   "execution_count": 662,
   "id": "441b0556",
   "metadata": {},
   "outputs": [
    {
     "data": {
      "image/png": "[encoded data removed]",
      "text/plain": [
       "<Figure size 432x288 with 1 Axes>"
      ]
     },
     "metadata": {
      "needs_background": "light"
     },
     "output_type": "display_data"
    }
   ],
   "source": [
    "#This block is for showing the prediction of the above image by showing the probability\n",
    "#You should run it after you choose a image from the block above \n",
    "\n",
    "ind = np.arange(4)\n",
    "targets = ['N95mask', 'clothmask', 'nomask', 'surgicalmask']\n",
    "width = 0.35\n",
    "locations = ind\n",
    "\n",
    "class_probability = plt.barh(ind, probability, width, alpha=1, label = 'Face Mask')\n",
    "\n",
    "plt.yticks(np.arange(4))\n",
    "plt.title('Probability')\n",
    "plt.yticks(locations,targets)\n",
    "\n",
    "#legend\n",
    "plt.legend()\n",
    "plt.ylim(top=5)\n",
    "plt.ylim(bottom=-2)\n",
    "plt.show();"
   ]
  },
  {
   "cell_type": "code",
   "execution_count": 464,
   "id": "402a3eab",
   "metadata": {},
   "outputs": [],
   "source": []
  },
  {
   "cell_type": "code",
   "execution_count": 410,
   "id": "50ed31c3",
   "metadata": {},
   "outputs": [],
   "source": []
  },
  {
   "cell_type": "code",
   "execution_count": 411,
   "id": "e939e316",
   "metadata": {},
   "outputs": [],
   "source": []
  },
  {
   "cell_type": "code",
   "execution_count": null,
   "id": "59afb46a",
   "metadata": {},
   "outputs": [],
   "source": []
  },
  {
   "cell_type": "code",
   "execution_count": null,
   "id": "e1d9bff1",
   "metadata": {},
   "outputs": [],
   "source": []
  },
  {
   "cell_type": "code",
   "execution_count": null,
   "id": "82772097",
   "metadata": {},
   "outputs": [],
   "source": []
  },
  {
   "cell_type": "code",
   "execution_count": null,
   "id": "ba7a3b18",
   "metadata": {},
   "outputs": [],
   "source": []
  }
 ],
 "metadata": {
  "kernelspec": {
   "display_name": "Python 3 (ipykernel)",
   "language": "python",
   "name": "python3"
  },
  "language_info": {
   "codemirror_mode": {
    "name": "ipython",
    "version": 3
   },
   "file_extension": ".py",
   "mimetype": "text/x-python",
   "name": "python",
   "nbconvert_exporter": "python",
   "pygments_lexer": "ipython3",
   "version": "3.9.7"
  }
 },
 "nbformat": 4,
 "nbformat_minor": 5
}
